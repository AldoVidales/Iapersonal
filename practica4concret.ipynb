{
  "nbformat": 4,
  "nbformat_minor": 0,
  "metadata": {
    "colab": {
      "name": "practica4concret.ipynb",
      "provenance": [],
      "collapsed_sections": [],
      "mount_file_id": "1w_Vg4qYeoFd3pLqEke4vUHydp71AN13Q",
      "authorship_tag": "ABX9TyN9shYTQY1Enr2MB7fqozlN",
      "include_colab_link": true
    },
    "kernelspec": {
      "name": "python3",
      "display_name": "Python 3"
    },
    "language_info": {
      "name": "python"
    }
  },
  "cells": [
    {
      "cell_type": "markdown",
      "metadata": {
        "id": "view-in-github",
        "colab_type": "text"
      },
      "source": [
        "<a href=\"https://colab.research.google.com/github/AldoVidales/Iapersonal/blob/main/practica4concret.ipynb\" target=\"_parent\"><img src=\"https://colab.research.google.com/assets/colab-badge.svg\" alt=\"Open In Colab\"/></a>"
      ]
    },
    {
      "cell_type": "markdown",
      "metadata": {
        "id": "JjtcRWgykBZS"
      },
      "source": [
        "Aldo Vidales \n",
        "\n",
        "Pronosticar fuerza del concreto"
      ]
    },
    {
      "cell_type": "code",
      "metadata": {
        "colab": {
          "base_uri": "https://localhost:8080/"
        },
        "id": "9K9rtqm1Te_i",
        "outputId": "6b353f40-9097-4922-9d18-ffa605ab4d6c"
      },
      "source": [
        "import numpy as np\n",
        "import pandas as pd\n",
        "import matplotlib.pyplot as plt\n",
        "%matplotlib"
      ],
      "execution_count": 1,
      "outputs": [
        {
          "output_type": "stream",
          "text": [
            "Using matplotlib backend: agg\n"
          ],
          "name": "stdout"
        }
      ]
    },
    {
      "cell_type": "code",
      "metadata": {
        "colab": {
          "base_uri": "https://localhost:8080/",
          "height": 202
        },
        "id": "3iPs7X1LTs05",
        "outputId": "7016586d-cad0-46f1-8b25-6dfbadfc4c86"
      },
      "source": [
        "datos=pd.read_csv(\"/content/drive/MyDrive/clase4/Concrete.csv\")\n",
        "datos.head()"
      ],
      "execution_count": 2,
      "outputs": [
        {
          "output_type": "execute_result",
          "data": {
            "text/html": [
              "<div>\n",
              "<style scoped>\n",
              "    .dataframe tbody tr th:only-of-type {\n",
              "        vertical-align: middle;\n",
              "    }\n",
              "\n",
              "    .dataframe tbody tr th {\n",
              "        vertical-align: top;\n",
              "    }\n",
              "\n",
              "    .dataframe thead th {\n",
              "        text-align: right;\n",
              "    }\n",
              "</style>\n",
              "<table border=\"1\" class=\"dataframe\">\n",
              "  <thead>\n",
              "    <tr style=\"text-align: right;\">\n",
              "      <th></th>\n",
              "      <th>cement</th>\n",
              "      <th>slag</th>\n",
              "      <th>flyash</th>\n",
              "      <th>water</th>\n",
              "      <th>superplasticizer</th>\n",
              "      <th>coarseaggregate</th>\n",
              "      <th>fineaggregate</th>\n",
              "      <th>age</th>\n",
              "      <th>csMPa</th>\n",
              "    </tr>\n",
              "  </thead>\n",
              "  <tbody>\n",
              "    <tr>\n",
              "      <th>0</th>\n",
              "      <td>540.0</td>\n",
              "      <td>0.0</td>\n",
              "      <td>0.0</td>\n",
              "      <td>162.0</td>\n",
              "      <td>2.5</td>\n",
              "      <td>1040.0</td>\n",
              "      <td>676.0</td>\n",
              "      <td>28</td>\n",
              "      <td>79.99</td>\n",
              "    </tr>\n",
              "    <tr>\n",
              "      <th>1</th>\n",
              "      <td>540.0</td>\n",
              "      <td>0.0</td>\n",
              "      <td>0.0</td>\n",
              "      <td>162.0</td>\n",
              "      <td>2.5</td>\n",
              "      <td>1055.0</td>\n",
              "      <td>676.0</td>\n",
              "      <td>28</td>\n",
              "      <td>61.89</td>\n",
              "    </tr>\n",
              "    <tr>\n",
              "      <th>2</th>\n",
              "      <td>332.5</td>\n",
              "      <td>142.5</td>\n",
              "      <td>0.0</td>\n",
              "      <td>228.0</td>\n",
              "      <td>0.0</td>\n",
              "      <td>932.0</td>\n",
              "      <td>594.0</td>\n",
              "      <td>270</td>\n",
              "      <td>40.27</td>\n",
              "    </tr>\n",
              "    <tr>\n",
              "      <th>3</th>\n",
              "      <td>332.5</td>\n",
              "      <td>142.5</td>\n",
              "      <td>0.0</td>\n",
              "      <td>228.0</td>\n",
              "      <td>0.0</td>\n",
              "      <td>932.0</td>\n",
              "      <td>594.0</td>\n",
              "      <td>365</td>\n",
              "      <td>41.05</td>\n",
              "    </tr>\n",
              "    <tr>\n",
              "      <th>4</th>\n",
              "      <td>198.6</td>\n",
              "      <td>132.4</td>\n",
              "      <td>0.0</td>\n",
              "      <td>192.0</td>\n",
              "      <td>0.0</td>\n",
              "      <td>978.4</td>\n",
              "      <td>825.5</td>\n",
              "      <td>360</td>\n",
              "      <td>44.30</td>\n",
              "    </tr>\n",
              "  </tbody>\n",
              "</table>\n",
              "</div>"
            ],
            "text/plain": [
              "   cement   slag  flyash  water  ...  coarseaggregate  fineaggregate  age  csMPa\n",
              "0   540.0    0.0     0.0  162.0  ...           1040.0          676.0   28  79.99\n",
              "1   540.0    0.0     0.0  162.0  ...           1055.0          676.0   28  61.89\n",
              "2   332.5  142.5     0.0  228.0  ...            932.0          594.0  270  40.27\n",
              "3   332.5  142.5     0.0  228.0  ...            932.0          594.0  365  41.05\n",
              "4   198.6  132.4     0.0  192.0  ...            978.4          825.5  360  44.30\n",
              "\n",
              "[5 rows x 9 columns]"
            ]
          },
          "metadata": {
            "tags": []
          },
          "execution_count": 2
        }
      ]
    },
    {
      "cell_type": "code",
      "metadata": {
        "id": "7U5hwqTUUXyj"
      },
      "source": [
        "datos2=datos[['cement','slag','flyash','water','superplasticizer','coarseaggregate','fineaggregate','age']]"
      ],
      "execution_count": 3,
      "outputs": []
    },
    {
      "cell_type": "code",
      "metadata": {
        "colab": {
          "base_uri": "https://localhost:8080/",
          "height": 202
        },
        "id": "TI9rgUKOUBxY",
        "outputId": "21215d06-f9a9-4ecf-c63d-0680418ec2a0"
      },
      "source": [
        "from sklearn.decomposition import PCA\n",
        "reduccion= PCA(n_components=1)\n",
        "reduccion.fit(datos2)\n",
        "datos_red=pd.DataFrame(reduccion.transform(datos2),columns=['t1'])\n",
        "datos_red.head()"
      ],
      "execution_count": 139,
      "outputs": [
        {
          "output_type": "execute_result",
          "data": {
            "text/html": [
              "<div>\n",
              "<style scoped>\n",
              "    .dataframe tbody tr th:only-of-type {\n",
              "        vertical-align: middle;\n",
              "    }\n",
              "\n",
              "    .dataframe tbody tr th {\n",
              "        vertical-align: top;\n",
              "    }\n",
              "\n",
              "    .dataframe thead th {\n",
              "        text-align: right;\n",
              "    }\n",
              "</style>\n",
              "<table border=\"1\" class=\"dataframe\">\n",
              "  <thead>\n",
              "    <tr style=\"text-align: right;\">\n",
              "      <th></th>\n",
              "      <th>t1</th>\n",
              "    </tr>\n",
              "  </thead>\n",
              "  <tbody>\n",
              "    <tr>\n",
              "      <th>0</th>\n",
              "      <td>284.793631</td>\n",
              "    </tr>\n",
              "    <tr>\n",
              "      <th>1</th>\n",
              "      <td>284.657245</td>\n",
              "    </tr>\n",
              "    <tr>\n",
              "      <th>2</th>\n",
              "      <td>101.843848</td>\n",
              "    </tr>\n",
              "    <tr>\n",
              "      <th>3</th>\n",
              "      <td>111.188675</td>\n",
              "    </tr>\n",
              "    <tr>\n",
              "      <th>4</th>\n",
              "      <td>-57.181489</td>\n",
              "    </tr>\n",
              "  </tbody>\n",
              "</table>\n",
              "</div>"
            ],
            "text/plain": [
              "           t1\n",
              "0  284.793631\n",
              "1  284.657245\n",
              "2  101.843848\n",
              "3  111.188675\n",
              "4  -57.181489"
            ]
          },
          "metadata": {
            "tags": []
          },
          "execution_count": 139
        }
      ]
    },
    {
      "cell_type": "code",
      "metadata": {
        "colab": {
          "base_uri": "https://localhost:8080/"
        },
        "id": "Zfhda0elVeP-",
        "outputId": "192689ee-20a8-47ab-9417-02a37aa2e7ac"
      },
      "source": [
        "import statsmodels.api as sm\n",
        "y = datos[\"csMPa\"]\n",
        "x = datos2[['cement','slag','flyash','water','superplasticizer','coarseaggregate','fineaggregate','age']]\n",
        "x = sm.add_constant(x) # para contar con la b en nuestra f()\n",
        "m = sm.OLS(y, x).fit() \n",
        "print(m.summary())"
      ],
      "execution_count": 140,
      "outputs": [
        {
          "output_type": "stream",
          "text": [
            "                            OLS Regression Results                            \n",
            "==============================================================================\n",
            "Dep. Variable:                  csMPa   R-squared:                       0.616\n",
            "Model:                            OLS   Adj. R-squared:                  0.613\n",
            "Method:                 Least Squares   F-statistic:                     204.3\n",
            "Date:                Sat, 24 Apr 2021   Prob (F-statistic):          6.29e-206\n",
            "Time:                        15:29:20   Log-Likelihood:                -3869.0\n",
            "No. Observations:                1030   AIC:                             7756.\n",
            "Df Residuals:                    1021   BIC:                             7800.\n",
            "Df Model:                           8                                         \n",
            "Covariance Type:            nonrobust                                         \n",
            "====================================================================================\n",
            "                       coef    std err          t      P>|t|      [0.025      0.975]\n",
            "------------------------------------------------------------------------------------\n",
            "const              -23.3312     26.586     -0.878      0.380     -75.500      28.837\n",
            "cement               0.1198      0.008     14.113      0.000       0.103       0.136\n",
            "slag                 0.1039      0.010     10.247      0.000       0.084       0.124\n",
            "flyash               0.0879      0.013      6.988      0.000       0.063       0.113\n",
            "water               -0.1499      0.040     -3.731      0.000      -0.229      -0.071\n",
            "superplasticizer     0.2922      0.093      3.128      0.002       0.109       0.476\n",
            "coarseaggregate      0.0181      0.009      1.926      0.054      -0.000       0.037\n",
            "fineaggregate        0.0202      0.011      1.887      0.059      -0.001       0.041\n",
            "age                  0.1142      0.005     21.046      0.000       0.104       0.125\n",
            "==============================================================================\n",
            "Omnibus:                        5.378   Durbin-Watson:                   1.282\n",
            "Prob(Omnibus):                  0.068   Jarque-Bera (JB):                5.304\n",
            "Skew:                          -0.174   Prob(JB):                       0.0705\n",
            "Kurtosis:                       3.045   Cond. No.                     1.06e+05\n",
            "==============================================================================\n",
            "\n",
            "Warnings:\n",
            "[1] Standard Errors assume that the covariance matrix of the errors is correctly specified.\n",
            "[2] The condition number is large, 1.06e+05. This might indicate that there are\n",
            "strong multicollinearity or other numerical problems.\n"
          ],
          "name": "stdout"
        }
      ]
    },
    {
      "cell_type": "code",
      "metadata": {
        "colab": {
          "base_uri": "https://localhost:8080/",
          "height": 202
        },
        "id": "JUxfVz-eWrGb",
        "outputId": "da7ce402-fd62-4f68-c80b-4db7430ae9da"
      },
      "source": [
        "datos_red.head()"
      ],
      "execution_count": 7,
      "outputs": [
        {
          "output_type": "execute_result",
          "data": {
            "text/html": [
              "<div>\n",
              "<style scoped>\n",
              "    .dataframe tbody tr th:only-of-type {\n",
              "        vertical-align: middle;\n",
              "    }\n",
              "\n",
              "    .dataframe tbody tr th {\n",
              "        vertical-align: top;\n",
              "    }\n",
              "\n",
              "    .dataframe thead th {\n",
              "        text-align: right;\n",
              "    }\n",
              "</style>\n",
              "<table border=\"1\" class=\"dataframe\">\n",
              "  <thead>\n",
              "    <tr style=\"text-align: right;\">\n",
              "      <th></th>\n",
              "      <th>t1</th>\n",
              "      <th>t2</th>\n",
              "    </tr>\n",
              "  </thead>\n",
              "  <tbody>\n",
              "    <tr>\n",
              "      <th>0</th>\n",
              "      <td>284.793631</td>\n",
              "      <td>-10.352341</td>\n",
              "    </tr>\n",
              "    <tr>\n",
              "      <th>1</th>\n",
              "      <td>284.657245</td>\n",
              "      <td>-14.470825</td>\n",
              "    </tr>\n",
              "    <tr>\n",
              "      <th>2</th>\n",
              "      <td>101.843848</td>\n",
              "      <td>183.443938</td>\n",
              "    </tr>\n",
              "    <tr>\n",
              "      <th>3</th>\n",
              "      <td>111.188675</td>\n",
              "      <td>190.080800</td>\n",
              "    </tr>\n",
              "    <tr>\n",
              "      <th>4</th>\n",
              "      <td>-57.181489</td>\n",
              "      <td>57.591349</td>\n",
              "    </tr>\n",
              "  </tbody>\n",
              "</table>\n",
              "</div>"
            ],
            "text/plain": [
              "           t1          t2\n",
              "0  284.793631  -10.352341\n",
              "1  284.657245  -14.470825\n",
              "2  101.843848  183.443938\n",
              "3  111.188675  190.080800\n",
              "4  -57.181489   57.591349"
            ]
          },
          "metadata": {
            "tags": []
          },
          "execution_count": 7
        }
      ]
    },
    {
      "cell_type": "code",
      "metadata": {
        "id": "s8ScjuJgWNyj"
      },
      "source": [
        "\n",
        "datos['t1']=datos_red['t1']\n"
      ],
      "execution_count": 204,
      "outputs": []
    },
    {
      "cell_type": "code",
      "metadata": {
        "colab": {
          "base_uri": "https://localhost:8080/",
          "height": 219
        },
        "id": "K9kanvLVXqN7",
        "outputId": "3d1255e2-6fb2-4a66-9946-a853529f8209"
      },
      "source": [
        "from sklearn.model_selection import  train_test_split as split\n",
        "from sklearn.linear_model import LinearRegression as LR\n",
        "y = datos[\"csMPa\"]\n",
        "x = datos2[['cement','slag','flyash','water','superplasticizer','coarseaggregate','fineaggregate','age']]\n",
        "x_train,x_test,y_train,y_test=split(x,y,test_size=0.45)\n",
        "\n",
        "reg=LR()\n",
        "\n",
        "reg.fit(x_train,y_train)\n",
        "\n",
        "print(reg.score(x_test,y_test))\n",
        "datos['pronostico']=reg.predict(x)\n",
        "datos.head()"
      ],
      "execution_count": 194,
      "outputs": [
        {
          "output_type": "stream",
          "text": [
            "0.6057737190610721\n"
          ],
          "name": "stdout"
        },
        {
          "output_type": "execute_result",
          "data": {
            "text/html": [
              "<div>\n",
              "<style scoped>\n",
              "    .dataframe tbody tr th:only-of-type {\n",
              "        vertical-align: middle;\n",
              "    }\n",
              "\n",
              "    .dataframe tbody tr th {\n",
              "        vertical-align: top;\n",
              "    }\n",
              "\n",
              "    .dataframe thead th {\n",
              "        text-align: right;\n",
              "    }\n",
              "</style>\n",
              "<table border=\"1\" class=\"dataframe\">\n",
              "  <thead>\n",
              "    <tr style=\"text-align: right;\">\n",
              "      <th></th>\n",
              "      <th>cement</th>\n",
              "      <th>slag</th>\n",
              "      <th>flyash</th>\n",
              "      <th>water</th>\n",
              "      <th>superplasticizer</th>\n",
              "      <th>coarseaggregate</th>\n",
              "      <th>fineaggregate</th>\n",
              "      <th>age</th>\n",
              "      <th>csMPa</th>\n",
              "      <th>pronostico</th>\n",
              "    </tr>\n",
              "  </thead>\n",
              "  <tbody>\n",
              "    <tr>\n",
              "      <th>0</th>\n",
              "      <td>540.0</td>\n",
              "      <td>0.0</td>\n",
              "      <td>0.0</td>\n",
              "      <td>162.0</td>\n",
              "      <td>2.5</td>\n",
              "      <td>1040.0</td>\n",
              "      <td>676.0</td>\n",
              "      <td>28</td>\n",
              "      <td>79.99</td>\n",
              "      <td>54.724304</td>\n",
              "    </tr>\n",
              "    <tr>\n",
              "      <th>1</th>\n",
              "      <td>540.0</td>\n",
              "      <td>0.0</td>\n",
              "      <td>0.0</td>\n",
              "      <td>162.0</td>\n",
              "      <td>2.5</td>\n",
              "      <td>1055.0</td>\n",
              "      <td>676.0</td>\n",
              "      <td>28</td>\n",
              "      <td>61.89</td>\n",
              "      <td>54.951478</td>\n",
              "    </tr>\n",
              "    <tr>\n",
              "      <th>2</th>\n",
              "      <td>332.5</td>\n",
              "      <td>142.5</td>\n",
              "      <td>0.0</td>\n",
              "      <td>228.0</td>\n",
              "      <td>0.0</td>\n",
              "      <td>932.0</td>\n",
              "      <td>594.0</td>\n",
              "      <td>270</td>\n",
              "      <td>40.27</td>\n",
              "      <td>56.592597</td>\n",
              "    </tr>\n",
              "    <tr>\n",
              "      <th>3</th>\n",
              "      <td>332.5</td>\n",
              "      <td>142.5</td>\n",
              "      <td>0.0</td>\n",
              "      <td>228.0</td>\n",
              "      <td>0.0</td>\n",
              "      <td>932.0</td>\n",
              "      <td>594.0</td>\n",
              "      <td>365</td>\n",
              "      <td>41.05</td>\n",
              "      <td>68.060841</td>\n",
              "    </tr>\n",
              "    <tr>\n",
              "      <th>4</th>\n",
              "      <td>198.6</td>\n",
              "      <td>132.4</td>\n",
              "      <td>0.0</td>\n",
              "      <td>192.0</td>\n",
              "      <td>0.0</td>\n",
              "      <td>978.4</td>\n",
              "      <td>825.5</td>\n",
              "      <td>360</td>\n",
              "      <td>44.30</td>\n",
              "      <td>63.499347</td>\n",
              "    </tr>\n",
              "  </tbody>\n",
              "</table>\n",
              "</div>"
            ],
            "text/plain": [
              "   cement   slag  flyash  water  ...  fineaggregate  age  csMPa  pronostico\n",
              "0   540.0    0.0     0.0  162.0  ...          676.0   28  79.99   54.724304\n",
              "1   540.0    0.0     0.0  162.0  ...          676.0   28  61.89   54.951478\n",
              "2   332.5  142.5     0.0  228.0  ...          594.0  270  40.27   56.592597\n",
              "3   332.5  142.5     0.0  228.0  ...          594.0  365  41.05   68.060841\n",
              "4   198.6  132.4     0.0  192.0  ...          825.5  360  44.30   63.499347\n",
              "\n",
              "[5 rows x 10 columns]"
            ]
          },
          "metadata": {
            "tags": []
          },
          "execution_count": 194
        }
      ]
    },
    {
      "cell_type": "code",
      "metadata": {
        "colab": {
          "base_uri": "https://localhost:8080/",
          "height": 265
        },
        "id": "9k3v5h1sgYcM",
        "outputId": "c6a96a88-653b-4c77-d55f-53db945fec52"
      },
      "source": [
        "fig,ax=plt.subplots()\n",
        "ax.plot(datos['csMPa'],marker='o',linestyle='')\n",
        "ax.plot(datos['pronostico'],marker='o',linestyle='')\n",
        "plt.show()"
      ],
      "execution_count": 200,
      "outputs": [
        {
          "output_type": "display_data",
          "data": {
            "image/png": "[encoded data removed]",
            "text/plain": [
              "<Figure size 432x288 with 1 Axes>"
            ]
          },
          "metadata": {
            "tags": [],
            "needs_background": "light"
          }
        }
      ]
    },
    {
      "cell_type": "code",
      "metadata": {
        "id": "mUgf4XZDjci8"
      },
      "source": [
        "datos=datos.sort_values(by='t1')"
      ],
      "execution_count": 225,
      "outputs": []
    },
    {
      "cell_type": "code",
      "metadata": {
        "colab": {
          "base_uri": "https://localhost:8080/",
          "height": 265
        },
        "id": "rhaFbL17glYy",
        "outputId": "5c9a1df3-17f8-4996-e5ab-c24e614c5875"
      },
      "source": [
        "\n",
        "plt.plot(datos['t1'],datos['csMPa'] , label='fuerza reales')\n",
        "plt.plot(datos['t1'],datos['pronostico'], label='fuerza pronostico')\n",
        "\n",
        "plt.legend()\n",
        "plt.show()"
      ],
      "execution_count": 226,
      "outputs": [
        {
          "output_type": "display_data",
          "data": {
            "image/png": "[encoded data removed]",
            "text/plain": [
              "<Figure size 432x288 with 1 Axes>"
            ]
          },
          "metadata": {
            "tags": [],
            "needs_background": "light"
          }
        }
      ]
    }
  ]
}